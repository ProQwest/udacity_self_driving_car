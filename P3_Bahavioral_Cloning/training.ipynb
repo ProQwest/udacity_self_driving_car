{
 "cells": [
  {
   "cell_type": "code",
   "execution_count": 4,
   "metadata": {
    "collapsed": false
   },
   "outputs": [],
   "source": [
    "import numpy as np\n",
    "import pandas as pd\n",
    "import cv2\n",
    "import csv\n",
    "import json\n",
    "import os.path\n",
    "import pickle\n",
    "from keras.models import Sequential\n",
    "from keras.layers import Dense, Activation, Convolution2D, Flatten, Lambda\n",
    "from keras.optimizers import Adam\n",
    "import tensorflow as tf"
   ]
  },
  {
   "cell_type": "code",
   "execution_count": 5,
   "metadata": {
    "collapsed": false
   },
   "outputs": [
    {
     "name": "stdout",
     "output_type": "stream",
     "text": [
      "<class 'pandas.core.frame.DataFrame'>\n",
      "RangeIndex: 2788 entries, 0 to 2787\n",
      "Data columns (total 7 columns):\n",
      "center      2788 non-null object\n",
      "left        2788 non-null object\n",
      "right       2788 non-null object\n",
      "steering    2788 non-null float64\n",
      "throttle    2788 non-null float64\n",
      "brake       2788 non-null int64\n",
      "speed       2788 non-null float64\n",
      "dtypes: float64(3), int64(1), object(3)\n",
      "memory usage: 152.5+ KB\n"
     ]
    }
   ],
   "source": [
    "csv_file = 'driving_log.csv'\n",
    "df = pd.read_csv(csv_file, header=None)\n",
    "df.columns = ['center','left','right','steering','throttle','brake','speed']\n",
    "df.info()"
   ]
  },
  {
   "cell_type": "code",
   "execution_count": 10,
   "metadata": {
    "collapsed": false
   },
   "outputs": [],
   "source": [
    "df = df[(df.brake==0.0)&(df.speed>0.0)]\n",
    "df.drop(['left','right','throttle','brake'], axis = 1)\n",
    "X_train = np.copy(df['center'])\n",
    "Y_train = np.copy(df['steering'])\n",
    "Y_train = Y_train.astype(np.float32)"
   ]
  },
  {
   "cell_type": "code",
   "execution_count": null,
   "metadata": {
    "collapsed": true
   },
   "outputs": [],
   "source": []
  }
 ],
 "metadata": {
  "anaconda-cloud": {},
  "kernelspec": {
   "display_name": "Python [conda env:py35]",
   "language": "python",
   "name": "conda-env-py35-py"
  },
  "language_info": {
   "codemirror_mode": {
    "name": "ipython",
    "version": 3
   },
   "file_extension": ".py",
   "mimetype": "text/x-python",
   "name": "python",
   "nbconvert_exporter": "python",
   "pygments_lexer": "ipython3",
   "version": "3.5.2"
  }
 },
 "nbformat": 4,
 "nbformat_minor": 1
}
