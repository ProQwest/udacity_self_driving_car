{
 "cells": [
  {
   "cell_type": "code",
   "execution_count": 36,
   "metadata": {
    "collapsed": false
   },
   "outputs": [],
   "source": [
    "import numpy as np\n",
    "import matplotlib.pyplot as plt\n",
    "import matplotlib.image as mpimg\n",
    "import pandas as pd\n",
    "import cv2\n",
    "import csv\n",
    "import json\n",
    "import os.path\n",
    "import pickle\n",
    "from keras.models import Sequential\n",
    "from keras.layers import Dense, Activation, Convolution2D, Flatten, Lambda\n",
    "from keras.optimizers import Adam\n",
    "import tensorflow as tf\n",
    "%matplotlib inline"
   ]
  },
  {
   "cell_type": "code",
   "execution_count": 38,
   "metadata": {
    "collapsed": false
   },
   "outputs": [],
   "source": [
    "# Import data\n",
    "csv_file = 'driving_log.csv'\n",
    "df = pd.read_csv(csv_file, header=None)\n",
    "df.columns = ['center','left','right','steering','throttle','brake','speed']\n",
    "df = df[(df.brake==0.0)&(df.speed>0.0)]\n",
    "df.drop(['left','right','throttle','brake'], axis = 1)\n",
    "image_path = np.copy(df['center'])"
   ]
  },
  {
   "cell_type": "code",
   "execution_count": 40,
   "metadata": {
    "collapsed": false
   },
   "outputs": [],
   "source": [
    "# Get images\n",
    "\n",
    "width = 200\n",
    "height = 66\n",
    "depth = 3\n",
    "\n",
    "def load_image(image_path):\n",
    "    X_train = np.zeros(shape=[len(image_path), height, width, depth])\n",
    "    for i, path in enumerate(image_path):\n",
    "        image = mpimg.imread(path)\n",
    "        shape = image.shape\n",
    "        image = image[int(image.shape[0]/3):image.shape[0], :]\n",
    "        image = cv2.resize(image, (width, height))\n",
    "        image = cv2.cvtColor(image, cv2.COLOR_RGB2YUV)\n",
    "        X_train[i, :, :, :] = image\n",
    "    return X_train\n",
    "X_train = load_image(image_path)\n"
   ]
  },
  {
   "cell_type": "code",
   "execution_count": 43,
   "metadata": {
    "collapsed": false
   },
   "outputs": [],
   "source": [
    "# Get labels\n",
    "Y_train = np.copy(df['steering'])\n",
    "Y_train = Y_train.astype(np.float32)"
   ]
  },
  {
   "cell_type": "code",
   "execution_count": null,
   "metadata": {
    "collapsed": true
   },
   "outputs": [],
   "source": [
    "model = Sequential()\n",
    "model.add(Lambda(lambda x: x/255.0 - 0.5))\n",
    "model.add(Convolution2D(5, 5, 24, subsample=(4, 4), border_mode=\"same\"))\n"
   ]
  }
 ],
 "metadata": {
  "anaconda-cloud": {},
  "kernelspec": {
   "display_name": "Python [conda env:py35]",
   "language": "python",
   "name": "conda-env-py35-py"
  },
  "language_info": {
   "codemirror_mode": {
    "name": "ipython",
    "version": 3
   },
   "file_extension": ".py",
   "mimetype": "text/x-python",
   "name": "python",
   "nbconvert_exporter": "python",
   "pygments_lexer": "ipython3",
   "version": "3.5.2"
  }
 },
 "nbformat": 4,
 "nbformat_minor": 1
}
